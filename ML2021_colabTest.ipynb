{
  "nbformat": 4,
  "nbformat_minor": 0,
  "metadata": {
    "colab": {
      "provenance": [],
      "gpuType": "T4",
      "mount_file_id": "14VvK7_YNcLST_M0xUPzNns9QLjkySGsJ",
      "authorship_tag": "ABX9TyOoKW8nqfYIqAsT8XGarLco",
      "include_colab_link": true
    },
    "kernelspec": {
      "name": "python3",
      "display_name": "Python 3"
    },
    "language_info": {
      "name": "python"
    },
    "accelerator": "GPU"
  },
  "cells": [
    {
      "cell_type": "markdown",
      "metadata": {
        "id": "view-in-github",
        "colab_type": "text"
      },
      "source": [
        "<a href=\"https://colab.research.google.com/github/lollipop6370/ML2021/blob/main/ML2021_colabTest.ipynb\" target=\"_parent\"><img src=\"https://colab.research.google.com/assets/colab-badge.svg\" alt=\"Open In Colab\"/></a>"
      ]
    },
    {
      "cell_type": "markdown",
      "source": [
        "# **Google Colab Tutorial**\n",
        "\n",
        "To utilize the free GPU provided by google, click on \"Runtime\"(執行階段) -> \"Change Runtime Type\"(變更執行階段類型). There are three options under \"Hardward Accelerator\"(硬體加速器), select \"GPU\".\n",
        "\n",
        "將執行階段更改為GPU，執行torch.cuda.is_available()檢查是否成功。"
      ],
      "metadata": {
        "id": "3MqXS0SCGcDJ"
      }
    },
    {
      "cell_type": "code",
      "execution_count": 2,
      "metadata": {
        "colab": {
          "base_uri": "https://localhost:8080/"
        },
        "id": "AphqIAvbD2im",
        "outputId": "90cd0c19-fb99-4129-b819-1ff2007de58c"
      },
      "outputs": [
        {
          "output_type": "stream",
          "name": "stdout",
          "text": [
            "sample_data\n"
          ]
        }
      ],
      "source": [
        "import torch\n",
        "torch.cuda.is_available()"
      ]
    },
    {
      "cell_type": "markdown",
      "source": [
        "**1. Download Files via google drive**\n",
        "\n",
        "A File stored in google drive has the following sharing link:\n",
        "\n",
        "https://drive.google.com/file/d/1JfWVsDwvwfKWGbNsHElr-cxeqtlhd9qN/view?usp=sharing\n",
        "\n",
        "It is possible to download the file via Colab knowing the file_id, using the following command."
      ],
      "metadata": {
        "id": "Ld4-Tm9tGscB"
      }
    },
    {
      "cell_type": "code",
      "source": [
        "# Download the file with file_id \"1JfWVsDwvwfKWGbNsHElr-cxeqtlhd9qN\", and rename it to Minori.jpg\n",
        "!gdown --id '1JfWVsDwvwfKWGbNsHElr-cxeqtlhd9qN' --output Minori.jpg"
      ],
      "metadata": {
        "colab": {
          "base_uri": "https://localhost:8080/"
        },
        "id": "JByX2wbYKyQz",
        "outputId": "0b49eb1e-5a1f-4b33-edec-5e76e1769751"
      },
      "execution_count": 3,
      "outputs": [
        {
          "output_type": "stream",
          "name": "stdout",
          "text": [
            "/usr/local/lib/python3.11/dist-packages/gdown/__main__.py:140: FutureWarning: Option `--id` was deprecated in version 4.3.1 and will be removed in 5.0. You don't need to pass it anymore to use a file ID.\n",
            "  warnings.warn(\n",
            "Downloading...\n",
            "From: https://drive.google.com/uc?id=1JfWVsDwvwfKWGbNsHElr-cxeqtlhd9qN\n",
            "To: /content/Minori.jpg\n",
            "100% 36.0k/36.0k [00:00<00:00, 85.3MB/s]\n"
          ]
        }
      ]
    },
    {
      "cell_type": "code",
      "source": [
        "# List all the files under the working directory\n",
        "!ls"
      ],
      "metadata": {
        "colab": {
          "base_uri": "https://localhost:8080/"
        },
        "id": "ZJ-xbF_XMw5C",
        "outputId": "60204874-07a2-4dd7-86ef-d421ce649573"
      },
      "execution_count": 4,
      "outputs": [
        {
          "output_type": "stream",
          "name": "stdout",
          "text": [
            "Minori.jpg  sample_data\n"
          ]
        }
      ]
    },
    {
      "cell_type": "markdown",
      "source": [
        "Exclamation mark (!) starts a new shell, does the operations, and then kills that shell, while percentage (%) affects the process associated with the notebook"
      ],
      "metadata": {
        "id": "Pq49e9BENfOy"
      }
    },
    {
      "cell_type": "markdown",
      "source": [
        "It can be seen that Minori.jpg is saved the the current working directory.\n",
        "\n",
        "The working space is temporary, once you close the browser, the file will be gone."
      ],
      "metadata": {
        "id": "e-Ng7H6VNZ6C"
      }
    },
    {
      "cell_type": "markdown",
      "source": [
        "**2. Mounting Google Drive**\n",
        "\n",
        "One advantage of using google colab is that connection with other google services such as Google Drive is simple. By mounting google drive, the working files can be stored permanantly. After executing the following code block, log in to the google account and copy the authentication code to the input box to finish the process."
      ],
      "metadata": {
        "id": "AGwxv4KONbka"
      }
    },
    {
      "cell_type": "code",
      "source": [
        "from google.colab import drive # Import a library named google.colab\n",
        "drive.mount('/content/drive', force_remount=True) # mount the content to the directory `/content/drive`"
      ],
      "metadata": {
        "colab": {
          "base_uri": "https://localhost:8080/"
        },
        "id": "TArpjyeONqL6",
        "outputId": "d2324c4c-e5d9-4c25-ff05-c1507de5af93"
      },
      "execution_count": 6,
      "outputs": [
        {
          "output_type": "stream",
          "name": "stdout",
          "text": [
            "Mounted at /content/drive\n"
          ]
        }
      ]
    },
    {
      "cell_type": "code",
      "source": [],
      "metadata": {
        "id": "yBPW6b2bNz2C"
      },
      "execution_count": null,
      "outputs": []
    }
  ]
}